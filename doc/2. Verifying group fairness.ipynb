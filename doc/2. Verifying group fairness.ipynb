{
 "cells": [
  {
   "cell_type": "markdown",
   "metadata": {},
   "source": [
    "## Verifying multiple fairness definitions in group fairness for multiple classification algorithms using Justicia\n",
    "\n",
    "In this tutorial, we verify different group fairness definitions such as disparate impact, statistical parity, and equalized odds using SSAT-based verifier Justicia. We verify them on different classification models such as linear models and decision trees. \n"
   ]
  },
  {
   "cell_type": "code",
   "execution_count": 1,
   "metadata": {},
   "outputs": [],
   "source": [
    "# standard library\n",
    "import sklearn.metrics\n",
    "from sklearn.model_selection import train_test_split\n",
    "from pyrulelearn.imli import imli\n",
    "from sklearn.linear_model import LogisticRegression\n",
    "from sklearn.svm import SVC\n",
    "from sklearn import tree\n",
    "import seaborn as sns\n",
    "%matplotlib inline\n",
    "import matplotlib.pyplot as plt\n",
    "import numpy as np\n",
    "from IPython.display import Markdown, display\n",
    "import sys\n",
    "sys.path.append(\"..\")\n",
    "\n",
    "# From this framework\n",
    "from data.objects.adult import Adult\n",
    "from data.objects.titanic import Titanic\n",
    "import justicia.utils\n",
    "from justicia.metrics import Metric\n"
   ]
  },
  {
   "cell_type": "markdown",
   "metadata": {},
   "source": [
    "### Prepare a dataset"
   ]
  },
  {
   "cell_type": "code",
   "execution_count": 2,
   "metadata": {},
   "outputs": [
    {
     "data": {
      "text/markdown": [
       "#### Sensitive attributes"
      ],
      "text/plain": [
       "<IPython.core.display.Markdown object>"
      ]
     },
     "metadata": {},
     "output_type": "display_data"
    },
    {
     "name": "stdout",
     "output_type": "stream",
     "text": [
      "['race', 'sex']\n"
     ]
    },
    {
     "data": {
      "text/markdown": [
       "#### Feature matrix"
      ],
      "text/plain": [
       "<IPython.core.display.Markdown object>"
      ]
     },
     "metadata": {},
     "output_type": "display_data"
    },
    {
     "name": "stdout",
     "output_type": "stream",
     "text": [
      "Before one hot encoding\n"
     ]
    },
    {
     "data": {
      "text/html": [
       "<div>\n",
       "<style scoped>\n",
       "    .dataframe tbody tr th:only-of-type {\n",
       "        vertical-align: middle;\n",
       "    }\n",
       "\n",
       "    .dataframe tbody tr th {\n",
       "        vertical-align: top;\n",
       "    }\n",
       "\n",
       "    .dataframe thead th {\n",
       "        text-align: right;\n",
       "    }\n",
       "</style>\n",
       "<table border=\"1\" class=\"dataframe\">\n",
       "  <thead>\n",
       "    <tr style=\"text-align: right;\">\n",
       "      <th></th>\n",
       "      <th>race</th>\n",
       "      <th>sex</th>\n",
       "      <th>age</th>\n",
       "      <th>education-num</th>\n",
       "      <th>capital-gain</th>\n",
       "      <th>capital-loss</th>\n",
       "      <th>hours-per-week</th>\n",
       "    </tr>\n",
       "  </thead>\n",
       "  <tbody>\n",
       "    <tr>\n",
       "      <th>0</th>\n",
       "      <td>White</td>\n",
       "      <td>Male</td>\n",
       "      <td>0.301370</td>\n",
       "      <td>0.800000</td>\n",
       "      <td>0.02174</td>\n",
       "      <td>0.0</td>\n",
       "      <td>0.397959</td>\n",
       "    </tr>\n",
       "    <tr>\n",
       "      <th>1</th>\n",
       "      <td>White</td>\n",
       "      <td>Male</td>\n",
       "      <td>0.452055</td>\n",
       "      <td>0.800000</td>\n",
       "      <td>0.00000</td>\n",
       "      <td>0.0</td>\n",
       "      <td>0.122449</td>\n",
       "    </tr>\n",
       "    <tr>\n",
       "      <th>2</th>\n",
       "      <td>White</td>\n",
       "      <td>Male</td>\n",
       "      <td>0.287671</td>\n",
       "      <td>0.533333</td>\n",
       "      <td>0.00000</td>\n",
       "      <td>0.0</td>\n",
       "      <td>0.397959</td>\n",
       "    </tr>\n",
       "    <tr>\n",
       "      <th>3</th>\n",
       "      <td>Black</td>\n",
       "      <td>Male</td>\n",
       "      <td>0.493151</td>\n",
       "      <td>0.400000</td>\n",
       "      <td>0.00000</td>\n",
       "      <td>0.0</td>\n",
       "      <td>0.397959</td>\n",
       "    </tr>\n",
       "    <tr>\n",
       "      <th>4</th>\n",
       "      <td>Black</td>\n",
       "      <td>Female</td>\n",
       "      <td>0.150685</td>\n",
       "      <td>0.800000</td>\n",
       "      <td>0.00000</td>\n",
       "      <td>0.0</td>\n",
       "      <td>0.397959</td>\n",
       "    </tr>\n",
       "  </tbody>\n",
       "</table>\n",
       "</div>"
      ],
      "text/plain": [
       "    race     sex       age  education-num  capital-gain  capital-loss  \\\n",
       "0  White    Male  0.301370       0.800000       0.02174           0.0   \n",
       "1  White    Male  0.452055       0.800000       0.00000           0.0   \n",
       "2  White    Male  0.287671       0.533333       0.00000           0.0   \n",
       "3  Black    Male  0.493151       0.400000       0.00000           0.0   \n",
       "4  Black  Female  0.150685       0.800000       0.00000           0.0   \n",
       "\n",
       "   hours-per-week  \n",
       "0        0.397959  \n",
       "1        0.122449  \n",
       "2        0.397959  \n",
       "3        0.397959  \n",
       "4        0.397959  "
      ]
     },
     "execution_count": 2,
     "metadata": {},
     "output_type": "execute_result"
    }
   ],
   "source": [
    "verbose = False\n",
    "dataset = Adult(verbose=verbose, config=0) # config defines configuration for sensitive groups\n",
    "df = dataset.get_df()\n",
    "# get X,y\n",
    "X = df.drop(['target'], axis=1)\n",
    "y = df['target']\n",
    "display(Markdown(\"#### Sensitive attributes\"))\n",
    "print(dataset.known_sensitive_attributes)\n",
    "display(Markdown(\"#### Feature matrix\"))\n",
    "print(\"Before one hot encoding\")\n",
    "X.head()\n"
   ]
  },
  {
   "cell_type": "code",
   "execution_count": 3,
   "metadata": {},
   "outputs": [
    {
     "name": "stdout",
     "output_type": "stream",
     "text": [
      "After->\n"
     ]
    },
    {
     "data": {
      "text/html": [
       "<div>\n",
       "<style scoped>\n",
       "    .dataframe tbody tr th:only-of-type {\n",
       "        vertical-align: middle;\n",
       "    }\n",
       "\n",
       "    .dataframe tbody tr th {\n",
       "        vertical-align: top;\n",
       "    }\n",
       "\n",
       "    .dataframe thead th {\n",
       "        text-align: right;\n",
       "    }\n",
       "</style>\n",
       "<table border=\"1\" class=\"dataframe\">\n",
       "  <thead>\n",
       "    <tr style=\"text-align: right;\">\n",
       "      <th></th>\n",
       "      <th>sex</th>\n",
       "      <th>age</th>\n",
       "      <th>education-num</th>\n",
       "      <th>capital-gain</th>\n",
       "      <th>capital-loss</th>\n",
       "      <th>hours-per-week</th>\n",
       "      <th>race_Amer-Indian-Eskimo</th>\n",
       "      <th>race_Asian-Pac-Islander</th>\n",
       "      <th>race_Black</th>\n",
       "      <th>race_Other</th>\n",
       "      <th>race_White</th>\n",
       "    </tr>\n",
       "  </thead>\n",
       "  <tbody>\n",
       "    <tr>\n",
       "      <th>0</th>\n",
       "      <td>0</td>\n",
       "      <td>0.301370</td>\n",
       "      <td>0.800000</td>\n",
       "      <td>0.021740</td>\n",
       "      <td>0.0</td>\n",
       "      <td>0.397959</td>\n",
       "      <td>0</td>\n",
       "      <td>0</td>\n",
       "      <td>0</td>\n",
       "      <td>0</td>\n",
       "      <td>1</td>\n",
       "    </tr>\n",
       "    <tr>\n",
       "      <th>1</th>\n",
       "      <td>0</td>\n",
       "      <td>0.452055</td>\n",
       "      <td>0.800000</td>\n",
       "      <td>0.000000</td>\n",
       "      <td>0.0</td>\n",
       "      <td>0.122449</td>\n",
       "      <td>0</td>\n",
       "      <td>0</td>\n",
       "      <td>0</td>\n",
       "      <td>0</td>\n",
       "      <td>1</td>\n",
       "    </tr>\n",
       "    <tr>\n",
       "      <th>2</th>\n",
       "      <td>0</td>\n",
       "      <td>0.287671</td>\n",
       "      <td>0.533333</td>\n",
       "      <td>0.000000</td>\n",
       "      <td>0.0</td>\n",
       "      <td>0.397959</td>\n",
       "      <td>0</td>\n",
       "      <td>0</td>\n",
       "      <td>0</td>\n",
       "      <td>0</td>\n",
       "      <td>1</td>\n",
       "    </tr>\n",
       "    <tr>\n",
       "      <th>3</th>\n",
       "      <td>0</td>\n",
       "      <td>0.493151</td>\n",
       "      <td>0.400000</td>\n",
       "      <td>0.000000</td>\n",
       "      <td>0.0</td>\n",
       "      <td>0.397959</td>\n",
       "      <td>0</td>\n",
       "      <td>0</td>\n",
       "      <td>1</td>\n",
       "      <td>0</td>\n",
       "      <td>0</td>\n",
       "    </tr>\n",
       "    <tr>\n",
       "      <th>4</th>\n",
       "      <td>1</td>\n",
       "      <td>0.150685</td>\n",
       "      <td>0.800000</td>\n",
       "      <td>0.000000</td>\n",
       "      <td>0.0</td>\n",
       "      <td>0.397959</td>\n",
       "      <td>0</td>\n",
       "      <td>0</td>\n",
       "      <td>1</td>\n",
       "      <td>0</td>\n",
       "      <td>0</td>\n",
       "    </tr>\n",
       "    <tr>\n",
       "      <th>...</th>\n",
       "      <td>...</td>\n",
       "      <td>...</td>\n",
       "      <td>...</td>\n",
       "      <td>...</td>\n",
       "      <td>...</td>\n",
       "      <td>...</td>\n",
       "      <td>...</td>\n",
       "      <td>...</td>\n",
       "      <td>...</td>\n",
       "      <td>...</td>\n",
       "      <td>...</td>\n",
       "    </tr>\n",
       "    <tr>\n",
       "      <th>32556</th>\n",
       "      <td>1</td>\n",
       "      <td>0.136986</td>\n",
       "      <td>0.733333</td>\n",
       "      <td>0.000000</td>\n",
       "      <td>0.0</td>\n",
       "      <td>0.377551</td>\n",
       "      <td>0</td>\n",
       "      <td>0</td>\n",
       "      <td>0</td>\n",
       "      <td>0</td>\n",
       "      <td>1</td>\n",
       "    </tr>\n",
       "    <tr>\n",
       "      <th>32557</th>\n",
       "      <td>0</td>\n",
       "      <td>0.315068</td>\n",
       "      <td>0.533333</td>\n",
       "      <td>0.000000</td>\n",
       "      <td>0.0</td>\n",
       "      <td>0.397959</td>\n",
       "      <td>0</td>\n",
       "      <td>0</td>\n",
       "      <td>0</td>\n",
       "      <td>0</td>\n",
       "      <td>1</td>\n",
       "    </tr>\n",
       "    <tr>\n",
       "      <th>32558</th>\n",
       "      <td>1</td>\n",
       "      <td>0.561644</td>\n",
       "      <td>0.533333</td>\n",
       "      <td>0.000000</td>\n",
       "      <td>0.0</td>\n",
       "      <td>0.397959</td>\n",
       "      <td>0</td>\n",
       "      <td>0</td>\n",
       "      <td>0</td>\n",
       "      <td>0</td>\n",
       "      <td>1</td>\n",
       "    </tr>\n",
       "    <tr>\n",
       "      <th>32559</th>\n",
       "      <td>0</td>\n",
       "      <td>0.068493</td>\n",
       "      <td>0.533333</td>\n",
       "      <td>0.000000</td>\n",
       "      <td>0.0</td>\n",
       "      <td>0.193878</td>\n",
       "      <td>0</td>\n",
       "      <td>0</td>\n",
       "      <td>0</td>\n",
       "      <td>0</td>\n",
       "      <td>1</td>\n",
       "    </tr>\n",
       "    <tr>\n",
       "      <th>32560</th>\n",
       "      <td>1</td>\n",
       "      <td>0.479452</td>\n",
       "      <td>0.533333</td>\n",
       "      <td>0.150242</td>\n",
       "      <td>0.0</td>\n",
       "      <td>0.397959</td>\n",
       "      <td>0</td>\n",
       "      <td>0</td>\n",
       "      <td>0</td>\n",
       "      <td>0</td>\n",
       "      <td>1</td>\n",
       "    </tr>\n",
       "  </tbody>\n",
       "</table>\n",
       "<p>32561 rows × 11 columns</p>\n",
       "</div>"
      ],
      "text/plain": [
       "       sex       age  education-num  capital-gain  capital-loss  \\\n",
       "0        0  0.301370       0.800000      0.021740           0.0   \n",
       "1        0  0.452055       0.800000      0.000000           0.0   \n",
       "2        0  0.287671       0.533333      0.000000           0.0   \n",
       "3        0  0.493151       0.400000      0.000000           0.0   \n",
       "4        1  0.150685       0.800000      0.000000           0.0   \n",
       "...    ...       ...            ...           ...           ...   \n",
       "32556    1  0.136986       0.733333      0.000000           0.0   \n",
       "32557    0  0.315068       0.533333      0.000000           0.0   \n",
       "32558    1  0.561644       0.533333      0.000000           0.0   \n",
       "32559    0  0.068493       0.533333      0.000000           0.0   \n",
       "32560    1  0.479452       0.533333      0.150242           0.0   \n",
       "\n",
       "       hours-per-week  race_Amer-Indian-Eskimo  race_Asian-Pac-Islander  \\\n",
       "0            0.397959                        0                        0   \n",
       "1            0.122449                        0                        0   \n",
       "2            0.397959                        0                        0   \n",
       "3            0.397959                        0                        0   \n",
       "4            0.397959                        0                        0   \n",
       "...               ...                      ...                      ...   \n",
       "32556        0.377551                        0                        0   \n",
       "32557        0.397959                        0                        0   \n",
       "32558        0.397959                        0                        0   \n",
       "32559        0.193878                        0                        0   \n",
       "32560        0.397959                        0                        0   \n",
       "\n",
       "       race_Black  race_Other  race_White  \n",
       "0               0           0           1  \n",
       "1               0           0           1  \n",
       "2               0           0           1  \n",
       "3               1           0           0  \n",
       "4               1           0           0  \n",
       "...           ...         ...         ...  \n",
       "32556           0           0           1  \n",
       "32557           0           0           1  \n",
       "32558           0           0           1  \n",
       "32559           0           0           1  \n",
       "32560           0           0           1  \n",
       "\n",
       "[32561 rows x 11 columns]"
      ]
     },
     "execution_count": 3,
     "metadata": {},
     "output_type": "execute_result"
    }
   ],
   "source": [
    "# one-hot encoding for categorical features (this takes care of Label encoding automatically)\n",
    "X = justicia.utils.get_one_hot_encoded_df(X,dataset.categorical_attributes)\n",
    "print(\"After->\")    \n",
    "X "
   ]
  },
  {
   "cell_type": "markdown",
   "metadata": {},
   "source": [
    "### Train a classifier"
   ]
  },
  {
   "cell_type": "code",
   "execution_count": 5,
   "metadata": {},
   "outputs": [
    {
     "name": "stdout",
     "output_type": "stream",
     "text": [
      "\n",
      "Train Accuracy: 0.764946764946765\n",
      "Test Accuracy: 0.7675775253300583\n"
     ]
    }
   ],
   "source": [
    "X_train, X_test, y_train, y_test = train_test_split(X, y, test_size=0.1, shuffle = True, random_state=2) # 70% training and 30% test\n",
    "\n",
    "clf = LogisticRegression(class_weight='balanced', solver='liblinear', random_state=0)\n",
    "# clf = tree.DecisionTreeClassifier(max_depth=5)\n",
    "# clf = SVC(kernel=\"linear\")\n",
    "\n",
    "\n",
    "clf.fit(X_train.values, y_train.values)\n",
    "print(\"\\nTrain Accuracy:\", sklearn.metrics.accuracy_score(clf.predict(X_train.values),y_train.values))\n",
    "print(\"Test Accuracy:\", sklearn.metrics.accuracy_score(clf.predict(X_test.values),y_test.values))        "
   ]
  },
  {
   "cell_type": "markdown",
   "metadata": {},
   "source": [
    "### Compute disparate impact and statistical parity using Justicia\n",
    "\n",
    "Let $ A $ denote sensitive attributes, $ Y $ be true class label, and $ \\hat{Y} $ be predicted class label. Disparate impact and statistical parity has following definitions.\n",
    "\n",
    "\n",
    "$\\begin{align*}\n",
    "    &\\text{Disparate Impact} \\triangleq \\frac{\\min_\\limits{\\mathbf{a} \\in A} \\Pr[\\hat{Y} = 1 | A = \\mathbf{a}]}{\\max_\\limits{\\mathbf{a} \\in A} \\Pr[\\hat{Y} = 1 | A = \\mathbf{a}]} \\\\ \n",
    "    &\\text{Statistical Parity} \\triangleq \\max_\\limits{\\mathbf{a} \\in A} \\Pr[\\hat{Y} = 1 | A = \\mathbf{a}] - \\min_\\limits{\\mathbf{a} \\in A} \\Pr[\\hat{Y} = 1 | A = \\mathbf{a}]\n",
    "    \\end{align*}\n",
    "$\n",
    "\n",
    "Hence, disparate impact is computed as the ratio between the most favored sensitive group and the least favored sensitive group based on PPV of the classifier. For statistical parity, we consider their difference.\n",
    "\n"
   ]
  },
  {
   "cell_type": "code",
   "execution_count": 6,
   "metadata": {},
   "outputs": [
    {
     "name": "stdout",
     "output_type": "stream",
     "text": [
      "Sensitive attributes ['race', 'sex']\n",
      "Disparate Impact: 0.6044797508650545\n",
      "Statistical Parity: 0.18962418850272234\n",
      "Time taken 11.4367196559906 seconds\n"
     ]
    }
   ],
   "source": [
    "metric = Metric(model=clf, data=X_test, sensitive_attributes=dataset.known_sensitive_attributes, verbose=False, encoding=\"best-correlated\")\n",
    "metric.compute()\n",
    "print(\"Sensitive attributes\", metric.given_sensitive_attributes)\n",
    "print(\"Disparate Impact:\", metric.disparate_impact_ratio)\n",
    "print(\"Statistical Parity:\", metric.statistical_parity_difference)\n",
    "print(\"Time taken\", metric.time_taken, \"seconds\")"
   ]
  },
  {
   "cell_type": "markdown",
   "metadata": {},
   "source": [
    "We now show how disparate impact and statistical parity have been computed vividly. For that, we look into the positive predictive value (PPV) of the classifier for different sensitive groups."
   ]
  },
  {
   "cell_type": "markdown",
   "metadata": {},
   "source": [
    "### Detailed analysis based the positive predictive value (PPV) for individual sensitive groups"
   ]
  },
  {
   "cell_type": "code",
   "execution_count": 7,
   "metadata": {},
   "outputs": [
    {
     "data": {
      "text/markdown": [
       "#### Most Favored group"
      ],
      "text/plain": [
       "<IPython.core.display.Markdown object>"
      ]
     },
     "metadata": {},
     "output_type": "display_data"
    },
    {
     "name": "stdout",
     "output_type": "stream",
     "text": [
      "race_Asian-Pac-Islander == 1, sex != 1\n"
     ]
    },
    {
     "data": {
      "text/markdown": [
       "#### Least Favored group"
      ],
      "text/plain": [
       "<IPython.core.display.Markdown object>"
      ]
     },
     "metadata": {},
     "output_type": "display_data"
    },
    {
     "name": "stdout",
     "output_type": "stream",
     "text": [
      "race_Amer-Indian-Eskimo == 1, sex == 1\n"
     ]
    },
    {
     "data": {
      "image/png": "[encoded data removed]",
      "text/plain": [
       "<Figure size 432x288 with 1 Axes>"
      ]
     },
     "metadata": {},
     "output_type": "display_data"
    },
    {
     "data": {
      "text/plain": [
       "<Figure size 432x288 with 0 Axes>"
      ]
     },
     "metadata": {},
     "output_type": "display_data"
    }
   ],
   "source": [
    "groups = [(\", \").join([\" \".join([each_sensitive_attribute[0], each_sensitive_attribute[1][0], str(each_sensitive_attribute[1][1])])  for each_sensitive_attribute in group_info[0]]) for group_info in metric.sensitive_group_statistics]\n",
    "PPVs = np.array([group_info[1] for group_info in metric.sensitive_group_statistics])\n",
    "\n",
    "assert metric.disparate_impact_ratio == float(PPVs.min()/PPVs.max())\n",
    "assert metric.statistical_parity_difference == PPVs.max() - PPVs.min()\n",
    "display(Markdown(\"#### Most Favored group\"))\n",
    "print((\", \").join([\" \".join([each_sensitive_attribute[0], each_sensitive_attribute[1][0], str(each_sensitive_attribute[1][1])]) for each_sensitive_attribute in list(metric.most_favored_group.items())]))\n",
    "display(Markdown(\"#### Least Favored group\"))\n",
    "print((\", \").join([\" \".join([each_sensitive_attribute[0], each_sensitive_attribute[1][0], str(each_sensitive_attribute[1][1])]) for each_sensitive_attribute in list(metric.least_favored_group.items())]))\n",
    "\n",
    "customize_color = {}\n",
    "for idx, PPV in enumerate(PPVs):\n",
    "    customize_color[groups[idx]] = \"red\" if PPV == PPVs.min() else (\"green\" if PPV ==PPVs.max() else \"gray\")\n",
    "fontsize = 22\n",
    "labelsize = 18\n",
    "\n",
    "sns.set_style(\"whitegrid\", {'axes.grid' : True})\n",
    "sns.barplot(x=groups, y=PPVs, palette=customize_color)\n",
    "plt.xticks(fontsize=labelsize-2, rotation=90)\n",
    "plt.yticks(fontsize=labelsize-2)\n",
    "plt.ylabel(r\"$\\Pr[\\hat{Y} = 1]$\", fontsize=labelsize)\n",
    "plt.xlabel(\"Sensitive groups\", fontsize=labelsize)\n",
    "plt.title(r\"$\\Pr[\\hat{Y} = 1 | A=\\mathbf{a}]$\", fontsize=labelsize)\n",
    "plt.show()\n",
    "plt.clf()"
   ]
  },
  {
   "cell_type": "markdown",
   "metadata": {},
   "source": [
    "### Equalized odds computation using Justicia\n",
    "The computation of equalized odds is similar to statistical parity but by acknowledging for different class label.\n",
    "\n",
    "By definition, we compute statistical parity for different classes.\n",
    "\n",
    "$\\begin{align*} \n",
    "&\\max_\\limits{\\mathbf{a} \\in A} \\Pr[\\hat{Y} = 1 | A = \\mathbf{a}, Y = 1] - \\min_\\limits{\\mathbf{a} \\in A} \\Pr[\\hat{Y} = 1 | A = \\mathbf{a}, Y = 1]\\\\ \n",
    "&\\max_\\limits{\\mathbf{a} \\in A} \\Pr[\\hat{Y} = 1 | A = \\mathbf{a}, Y = 0] - \\min_\\limits{\\mathbf{a} \\in A} \\Pr[\\hat{Y} = 1 | A = \\mathbf{a}, Y = 0]\n",
    "\\end{align*}\n",
    "$\n",
    "\n",
    "Similar computation can be applied for disparate impact, but for $Y = 1$ and $Y = 0$ classes.\n",
    "\n",
    "\n",
    "\n"
   ]
  },
  {
   "cell_type": "code",
   "execution_count": 8,
   "metadata": {},
   "outputs": [
    {
     "data": {
      "text/markdown": [
       "#### In results, the first entry is for $Y=1$ class and the second entry is for $Y=0$ class"
      ],
      "text/plain": [
       "<IPython.core.display.Markdown object>"
      ]
     },
     "metadata": {},
     "output_type": "display_data"
    },
    {
     "name": "stdout",
     "output_type": "stream",
     "text": [
      "Disparate Impact: [0.5738564822003906, 0.5906606176336412]\n",
      "Statistical Parity: [0.26610841416023884, 0.15786280131779143]\n",
      "Time taken 21.252723932266235 seconds\n"
     ]
    }
   ],
   "source": [
    "metric_eqo = Metric(model=clf, data=X_test, sensitive_attributes=dataset.known_sensitive_attributes, verbose=False, encoding=\"best-correlated\")\n",
    "metric_eqo.compute_eqo(y_test)\n",
    "display(Markdown(\"#### In results, the first entry is for $Y=1$ class and the second entry is for $Y=0$ class\"))\n",
    "print(\"Disparate Impact:\", metric_eqo.disparate_impact_ratio)\n",
    "print(\"Statistical Parity:\", metric_eqo.statistical_parity_difference)\n",
    "print(\"Time taken\", metric_eqo.time_taken, \"seconds\")"
   ]
  },
  {
   "cell_type": "markdown",
   "metadata": {},
   "source": [
    "### Detailed analysis of equalized odds for individual sensitive compound groups"
   ]
  },
  {
   "cell_type": "code",
   "execution_count": 9,
   "metadata": {},
   "outputs": [
    {
     "data": {
      "text/markdown": [
       "### Results for $Y = 1$"
      ],
      "text/plain": [
       "<IPython.core.display.Markdown object>"
      ]
     },
     "metadata": {},
     "output_type": "display_data"
    },
    {
     "name": "stdout",
     "output_type": "stream",
     "text": [
      "Most Favored group: race_Asian-Pac-Islander == 1, sex != 1\n",
      "Least Favored group: race_Amer-Indian-Eskimo == 1, sex == 1\n"
     ]
    },
    {
     "data": {
      "image/png": "[encoded data removed]",
      "text/plain": [
       "<Figure size 432x288 with 1 Axes>"
      ]
     },
     "metadata": {},
     "output_type": "display_data"
    },
    {
     "data": {
      "text/markdown": [
       "### Results for $Y = 0$"
      ],
      "text/plain": [
       "<IPython.core.display.Markdown object>"
      ]
     },
     "metadata": {},
     "output_type": "display_data"
    },
    {
     "name": "stdout",
     "output_type": "stream",
     "text": [
      "Most Favored group: race_White == 1, sex != 1\n",
      "Least Favored group: race_Other == 1, sex == 1\n"
     ]
    },
    {
     "data": {
      "image/png": "[encoded data removed]",
      "text/plain": [
       "<Figure size 432x288 with 1 Axes>"
      ]
     },
     "metadata": {},
     "output_type": "display_data"
    },
    {
     "data": {
      "text/plain": [
       "<Figure size 432x288 with 0 Axes>"
      ]
     },
     "metadata": {},
     "output_type": "display_data"
    }
   ],
   "source": [
    "groups_y_1 = [(\", \").join([\" \".join([each_sensitive_attribute[0], each_sensitive_attribute[1][0], str(each_sensitive_attribute[1][1])])  for each_sensitive_attribute in group_info[0]]) for group_info in metric_eqo.sensitive_group_statistics[0]]\n",
    "PPVs_y_1 = np.array([group_info[1] for group_info in metric_eqo.sensitive_group_statistics[0]])\n",
    "\n",
    "customize_color = {}\n",
    "for idx, PPV in enumerate(PPVs_y_1):\n",
    "    customize_color[groups_y_1[idx]] = \"red\" if PPV == PPVs_y_1.min() else (\"green\" if PPV ==PPVs_y_1.max() else \"gray\")\n",
    "\n",
    "assert metric_eqo.disparate_impact_ratio[0] == float(PPVs_y_1.min()/PPVs_y_1.max())\n",
    "assert metric_eqo.statistical_parity_difference[0] == PPVs_y_1.max() - PPVs_y_1.min()\n",
    "display(Markdown(\"### Results for $Y = 1$\"))\n",
    "print(\"Most Favored group:\", (\", \").join([\" \".join([each_sensitive_attribute[0], each_sensitive_attribute[1][0], str(each_sensitive_attribute[1][1])])    for each_sensitive_attribute in list(metric_eqo.most_favored_group[0].items())]))\n",
    "print(\"Least Favored group:\", (\", \").join([\" \".join([each_sensitive_attribute[0], each_sensitive_attribute[1][0], str(each_sensitive_attribute[1][1])])    for each_sensitive_attribute in list(metric_eqo.least_favored_group[0].items())]))\n",
    "\n",
    "\n",
    "sns.set_style(\"whitegrid\", {'axes.grid' : True})\n",
    "sns.barplot(x=groups_y_1, y=PPVs_y_1, palette=customize_color)\n",
    "plt.xticks(fontsize=labelsize-2, rotation=90)\n",
    "plt.yticks(fontsize=labelsize-2)\n",
    "plt.ylabel(r\"$\\Pr[\\hat{Y} = 1 | Y = 1]$\", fontsize=labelsize)\n",
    "plt.xlabel(\"Sensitive groups\", fontsize=labelsize)\n",
    "plt.title(r\"$\\Pr[\\hat{Y} = 1 | A=\\mathbf{a}, Y = 1]$\", fontsize=labelsize)\n",
    "plt.show()\n",
    "plt.clf()\n",
    "\n",
    "groups_y_0 = [(\", \").join([\" \".join([each_sensitive_attribute[0], each_sensitive_attribute[1][0], str(each_sensitive_attribute[1][1])])  for each_sensitive_attribute in group_info[0]]) for group_info in metric_eqo.sensitive_group_statistics[1]]\n",
    "PPVs_y_0 = np.array([group_info[1] for group_info in metric_eqo.sensitive_group_statistics[1]])\n",
    "\n",
    "customize_color = {}\n",
    "for idx, PPV in enumerate(PPVs_y_0):\n",
    "    customize_color[groups_y_0[idx]] = \"red\" if PPV == PPVs_y_0.min() else (\"green\" if PPV ==PPVs_y_0.max() else \"gray\")\n",
    "\n",
    "assert metric_eqo.disparate_impact_ratio[1] == float(PPVs_y_0.min()/PPVs_y_0.max())\n",
    "assert metric_eqo.statistical_parity_difference[1] == PPVs_y_0.max() - PPVs_y_0.min()\n",
    "display(Markdown(\"### Results for $Y = 0$\"))\n",
    "print(\"Most Favored group:\", (\", \").join([\" \".join([each_sensitive_attribute[0], each_sensitive_attribute[1][0], str(each_sensitive_attribute[1][1])])    for each_sensitive_attribute in list(metric_eqo.most_favored_group[1].items())]))\n",
    "print(\"Least Favored group:\", (\", \").join([\" \".join([each_sensitive_attribute[0], each_sensitive_attribute[1][0], str(each_sensitive_attribute[1][1])])    for each_sensitive_attribute in list(metric_eqo.least_favored_group[1].items())]))\n",
    "\n",
    "\n",
    "sns.set_style(\"whitegrid\", {'axes.grid' : True})\n",
    "sns.barplot(x=groups_y_0, y=PPVs_y_0, palette=customize_color)\n",
    "plt.xticks(fontsize=labelsize-2, rotation=90)\n",
    "plt.yticks(fontsize=labelsize-2)\n",
    "plt.ylabel(r\"$\\Pr[\\hat{Y} = 1 | Y = 0]$\", fontsize=labelsize)\n",
    "plt.xlabel(\"Sensitive groups\", fontsize=labelsize)\n",
    "plt.title(r\"$\\Pr[\\hat{Y} = 1 | A=\\mathbf{a}, Y = 0]$\", fontsize=labelsize)\n",
    "plt.show()\n",
    "plt.clf()\n",
    "\n"
   ]
  },
  {
   "cell_type": "code",
   "execution_count": null,
   "metadata": {},
   "outputs": [],
   "source": []
  }
 ],
 "metadata": {
  "interpreter": {
   "hash": "aff7118c20e07ed9fb612d208aa40ec32e694bdf8c4eda70182d9aa82faa566c"
  },
  "kernelspec": {
   "display_name": "Python 3.8.3 64-bit ('base': conda)",
   "language": "python",
   "name": "python3"
  },
  "language_info": {
   "codemirror_mode": {
    "name": "ipython",
    "version": 3
   },
   "file_extension": ".py",
   "mimetype": "text/x-python",
   "name": "python",
   "nbconvert_exporter": "python",
   "pygments_lexer": "ipython3",
   "version": "3.8.3"
  },
  "orig_nbformat": 2
 },
 "nbformat": 4,
 "nbformat_minor": 2
}
