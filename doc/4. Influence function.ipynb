{
 "cells": [
  {
   "cell_type": "markdown",
   "metadata": {},
   "source": [
    "## Computing influence function of non-protected attributes\n",
    "\n",
    "In this tutorial, we compute influence of non-protected attributes in determining bias in the decision process. To compute the influence of an attribute, we modify it with random values and record differences in <em>measures of interests</em> such as disparate impact, statisitcal parity. Intuitively, the influence denotes how much a measure will change due to the attribute.\n",
    "\n",
    "### Outline\n",
    "- Train a classifier on a dataset\n",
    "- Compute base values (without perturbation)\n",
    "- For each attribute, replace values with random values and report differences in disparate impact, statistical parity and positive predictive value (probability of a classifier predicting the positive class)\n",
    "- Plot results"
   ]
  },
  {
   "cell_type": "code",
   "execution_count": 1,
   "metadata": {},
   "outputs": [],
   "source": [
    "# standard library\n",
    "import sklearn.metrics\n",
    "from sklearn.model_selection import train_test_split\n",
    "from pyrulelearn.imli import imli\n",
    "from sklearn.linear_model import LogisticRegression\n",
    "from sklearn.svm import SVC\n",
    "from sklearn import tree\n",
    "import seaborn as sns\n",
    "%matplotlib inline\n",
    "import matplotlib.pyplot as plt\n",
    "import numpy as np\n",
    "from IPython.display import Markdown, display\n",
    "import sys\n",
    "from tqdm import tqdm\n",
    "import pandas as pd\n",
    "\n",
    "\n",
    "# From this framework\n",
    "import justicia.utils\n",
    "from justicia.metrics import Metric\n",
    "\n",
    "# data\n",
    "sys.path.append(\"..\")\n",
    "from data.objects.ricci import Ricci\n",
    "from data.objects.adult import Adult\n",
    "from data.objects.compas import Compas\n",
    "from data.objects.titanic import Titanic\n",
    "from data.objects.german import German"
   ]
  },
  {
   "cell_type": "markdown",
   "metadata": {},
   "source": [
    "### Prepare a dataset"
   ]
  },
  {
   "cell_type": "code",
   "execution_count": 2,
   "metadata": {},
   "outputs": [
    {
     "data": {
      "text/markdown": [
       "#### Sensitive attributes"
      ],
      "text/plain": [
       "<IPython.core.display.Markdown object>"
      ]
     },
     "metadata": {},
     "output_type": "display_data"
    },
    {
     "name": "stdout",
     "output_type": "stream",
     "text": [
      "['sex']\n"
     ]
    },
    {
     "data": {
      "text/markdown": [
       "#### Feature matrix"
      ],
      "text/plain": [
       "<IPython.core.display.Markdown object>"
      ]
     },
     "metadata": {},
     "output_type": "display_data"
    },
    {
     "name": "stdout",
     "output_type": "stream",
     "text": [
      "Before one hot encoding\n"
     ]
    },
    {
     "data": {
      "text/html": [
       "<div>\n",
       "<style scoped>\n",
       "    .dataframe tbody tr th:only-of-type {\n",
       "        vertical-align: middle;\n",
       "    }\n",
       "\n",
       "    .dataframe tbody tr th {\n",
       "        vertical-align: top;\n",
       "    }\n",
       "\n",
       "    .dataframe thead th {\n",
       "        text-align: right;\n",
       "    }\n",
       "</style>\n",
       "<table border=\"1\" class=\"dataframe\">\n",
       "  <thead>\n",
       "    <tr style=\"text-align: right;\">\n",
       "      <th></th>\n",
       "      <th>race</th>\n",
       "      <th>sex</th>\n",
       "      <th>age</th>\n",
       "      <th>education-num</th>\n",
       "      <th>capital-gain</th>\n",
       "      <th>capital-loss</th>\n",
       "      <th>hours-per-week</th>\n",
       "    </tr>\n",
       "  </thead>\n",
       "  <tbody>\n",
       "    <tr>\n",
       "      <th>0</th>\n",
       "      <td>White</td>\n",
       "      <td>Male</td>\n",
       "      <td>0.301370</td>\n",
       "      <td>0.800000</td>\n",
       "      <td>0.02174</td>\n",
       "      <td>0.0</td>\n",
       "      <td>0.397959</td>\n",
       "    </tr>\n",
       "    <tr>\n",
       "      <th>1</th>\n",
       "      <td>White</td>\n",
       "      <td>Male</td>\n",
       "      <td>0.452055</td>\n",
       "      <td>0.800000</td>\n",
       "      <td>0.00000</td>\n",
       "      <td>0.0</td>\n",
       "      <td>0.122449</td>\n",
       "    </tr>\n",
       "    <tr>\n",
       "      <th>2</th>\n",
       "      <td>White</td>\n",
       "      <td>Male</td>\n",
       "      <td>0.287671</td>\n",
       "      <td>0.533333</td>\n",
       "      <td>0.00000</td>\n",
       "      <td>0.0</td>\n",
       "      <td>0.397959</td>\n",
       "    </tr>\n",
       "    <tr>\n",
       "      <th>3</th>\n",
       "      <td>Black</td>\n",
       "      <td>Male</td>\n",
       "      <td>0.493151</td>\n",
       "      <td>0.400000</td>\n",
       "      <td>0.00000</td>\n",
       "      <td>0.0</td>\n",
       "      <td>0.397959</td>\n",
       "    </tr>\n",
       "    <tr>\n",
       "      <th>4</th>\n",
       "      <td>Black</td>\n",
       "      <td>Female</td>\n",
       "      <td>0.150685</td>\n",
       "      <td>0.800000</td>\n",
       "      <td>0.00000</td>\n",
       "      <td>0.0</td>\n",
       "      <td>0.397959</td>\n",
       "    </tr>\n",
       "  </tbody>\n",
       "</table>\n",
       "</div>"
      ],
      "text/plain": [
       "    race     sex       age  education-num  capital-gain  capital-loss  \\\n",
       "0  White    Male  0.301370       0.800000       0.02174           0.0   \n",
       "1  White    Male  0.452055       0.800000       0.00000           0.0   \n",
       "2  White    Male  0.287671       0.533333       0.00000           0.0   \n",
       "3  Black    Male  0.493151       0.400000       0.00000           0.0   \n",
       "4  Black  Female  0.150685       0.800000       0.00000           0.0   \n",
       "\n",
       "   hours-per-week  \n",
       "0        0.397959  \n",
       "1        0.122449  \n",
       "2        0.397959  \n",
       "3        0.397959  \n",
       "4        0.397959  "
      ]
     },
     "execution_count": 2,
     "metadata": {},
     "output_type": "execute_result"
    }
   ],
   "source": [
    "verbose = False\n",
    "dataset = Adult(verbose=verbose, config=2) # config defines configuration for sensitive groups\n",
    "df = dataset.get_df()\n",
    "# get X,y\n",
    "X = df.drop(['target'], axis=1)\n",
    "y = df['target']\n",
    "display(Markdown(\"#### Sensitive attributes\"))\n",
    "print(dataset.known_sensitive_attributes)\n",
    "display(Markdown(\"#### Feature matrix\"))\n",
    "print(\"Before one hot encoding\")\n",
    "attributes = X.columns\n",
    "X.head()\n"
   ]
  },
  {
   "cell_type": "code",
   "execution_count": 3,
   "metadata": {},
   "outputs": [
    {
     "name": "stdout",
     "output_type": "stream",
     "text": [
      "\n",
      "\n",
      "Apply one-hot encoding on categircal attributes\n",
      "race  has more than two unique categories ['Amer-Indian-Eskimo', 'Asian-Pac-Islander', 'Black', 'Other', 'White']\n",
      "Applying following mapping on attribute sex => Male : 0 | Female : 1\n",
      "workclass  is not considered in classification\n",
      "education  is not considered in classification\n",
      "marital-status  is not considered in classification\n",
      "occupation  is not considered in classification\n",
      "relationship  is not considered in classification\n",
      "native-country  is not considered in classification\n",
      "target  is not considered in classification\n",
      "\n",
      "\n",
      "After->\n"
     ]
    },
    {
     "data": {
      "text/html": [
       "<div>\n",
       "<style scoped>\n",
       "    .dataframe tbody tr th:only-of-type {\n",
       "        vertical-align: middle;\n",
       "    }\n",
       "\n",
       "    .dataframe tbody tr th {\n",
       "        vertical-align: top;\n",
       "    }\n",
       "\n",
       "    .dataframe thead th {\n",
       "        text-align: right;\n",
       "    }\n",
       "</style>\n",
       "<table border=\"1\" class=\"dataframe\">\n",
       "  <thead>\n",
       "    <tr style=\"text-align: right;\">\n",
       "      <th></th>\n",
       "      <th>sex</th>\n",
       "      <th>age</th>\n",
       "      <th>education-num</th>\n",
       "      <th>capital-gain</th>\n",
       "      <th>capital-loss</th>\n",
       "      <th>hours-per-week</th>\n",
       "      <th>race_Amer-Indian-Eskimo</th>\n",
       "      <th>race_Asian-Pac-Islander</th>\n",
       "      <th>race_Black</th>\n",
       "      <th>race_Other</th>\n",
       "      <th>race_White</th>\n",
       "    </tr>\n",
       "  </thead>\n",
       "  <tbody>\n",
       "    <tr>\n",
       "      <th>0</th>\n",
       "      <td>0</td>\n",
       "      <td>0.301370</td>\n",
       "      <td>0.800000</td>\n",
       "      <td>0.021740</td>\n",
       "      <td>0.0</td>\n",
       "      <td>0.397959</td>\n",
       "      <td>0</td>\n",
       "      <td>0</td>\n",
       "      <td>0</td>\n",
       "      <td>0</td>\n",
       "      <td>1</td>\n",
       "    </tr>\n",
       "    <tr>\n",
       "      <th>1</th>\n",
       "      <td>0</td>\n",
       "      <td>0.452055</td>\n",
       "      <td>0.800000</td>\n",
       "      <td>0.000000</td>\n",
       "      <td>0.0</td>\n",
       "      <td>0.122449</td>\n",
       "      <td>0</td>\n",
       "      <td>0</td>\n",
       "      <td>0</td>\n",
       "      <td>0</td>\n",
       "      <td>1</td>\n",
       "    </tr>\n",
       "    <tr>\n",
       "      <th>2</th>\n",
       "      <td>0</td>\n",
       "      <td>0.287671</td>\n",
       "      <td>0.533333</td>\n",
       "      <td>0.000000</td>\n",
       "      <td>0.0</td>\n",
       "      <td>0.397959</td>\n",
       "      <td>0</td>\n",
       "      <td>0</td>\n",
       "      <td>0</td>\n",
       "      <td>0</td>\n",
       "      <td>1</td>\n",
       "    </tr>\n",
       "    <tr>\n",
       "      <th>3</th>\n",
       "      <td>0</td>\n",
       "      <td>0.493151</td>\n",
       "      <td>0.400000</td>\n",
       "      <td>0.000000</td>\n",
       "      <td>0.0</td>\n",
       "      <td>0.397959</td>\n",
       "      <td>0</td>\n",
       "      <td>0</td>\n",
       "      <td>1</td>\n",
       "      <td>0</td>\n",
       "      <td>0</td>\n",
       "    </tr>\n",
       "    <tr>\n",
       "      <th>4</th>\n",
       "      <td>1</td>\n",
       "      <td>0.150685</td>\n",
       "      <td>0.800000</td>\n",
       "      <td>0.000000</td>\n",
       "      <td>0.0</td>\n",
       "      <td>0.397959</td>\n",
       "      <td>0</td>\n",
       "      <td>0</td>\n",
       "      <td>1</td>\n",
       "      <td>0</td>\n",
       "      <td>0</td>\n",
       "    </tr>\n",
       "    <tr>\n",
       "      <th>5</th>\n",
       "      <td>1</td>\n",
       "      <td>0.273973</td>\n",
       "      <td>0.866667</td>\n",
       "      <td>0.000000</td>\n",
       "      <td>0.0</td>\n",
       "      <td>0.397959</td>\n",
       "      <td>0</td>\n",
       "      <td>0</td>\n",
       "      <td>0</td>\n",
       "      <td>0</td>\n",
       "      <td>1</td>\n",
       "    </tr>\n",
       "    <tr>\n",
       "      <th>6</th>\n",
       "      <td>1</td>\n",
       "      <td>0.438356</td>\n",
       "      <td>0.266667</td>\n",
       "      <td>0.000000</td>\n",
       "      <td>0.0</td>\n",
       "      <td>0.153061</td>\n",
       "      <td>0</td>\n",
       "      <td>0</td>\n",
       "      <td>1</td>\n",
       "      <td>0</td>\n",
       "      <td>0</td>\n",
       "    </tr>\n",
       "    <tr>\n",
       "      <th>7</th>\n",
       "      <td>0</td>\n",
       "      <td>0.479452</td>\n",
       "      <td>0.533333</td>\n",
       "      <td>0.000000</td>\n",
       "      <td>0.0</td>\n",
       "      <td>0.448980</td>\n",
       "      <td>0</td>\n",
       "      <td>0</td>\n",
       "      <td>0</td>\n",
       "      <td>0</td>\n",
       "      <td>1</td>\n",
       "    </tr>\n",
       "    <tr>\n",
       "      <th>8</th>\n",
       "      <td>1</td>\n",
       "      <td>0.191781</td>\n",
       "      <td>0.866667</td>\n",
       "      <td>0.140841</td>\n",
       "      <td>0.0</td>\n",
       "      <td>0.500000</td>\n",
       "      <td>0</td>\n",
       "      <td>0</td>\n",
       "      <td>0</td>\n",
       "      <td>0</td>\n",
       "      <td>1</td>\n",
       "    </tr>\n",
       "    <tr>\n",
       "      <th>9</th>\n",
       "      <td>0</td>\n",
       "      <td>0.342466</td>\n",
       "      <td>0.800000</td>\n",
       "      <td>0.051781</td>\n",
       "      <td>0.0</td>\n",
       "      <td>0.397959</td>\n",
       "      <td>0</td>\n",
       "      <td>0</td>\n",
       "      <td>0</td>\n",
       "      <td>0</td>\n",
       "      <td>1</td>\n",
       "    </tr>\n",
       "  </tbody>\n",
       "</table>\n",
       "</div>"
      ],
      "text/plain": [
       "   sex       age  education-num  capital-gain  capital-loss  hours-per-week  \\\n",
       "0    0  0.301370       0.800000      0.021740           0.0        0.397959   \n",
       "1    0  0.452055       0.800000      0.000000           0.0        0.122449   \n",
       "2    0  0.287671       0.533333      0.000000           0.0        0.397959   \n",
       "3    0  0.493151       0.400000      0.000000           0.0        0.397959   \n",
       "4    1  0.150685       0.800000      0.000000           0.0        0.397959   \n",
       "5    1  0.273973       0.866667      0.000000           0.0        0.397959   \n",
       "6    1  0.438356       0.266667      0.000000           0.0        0.153061   \n",
       "7    0  0.479452       0.533333      0.000000           0.0        0.448980   \n",
       "8    1  0.191781       0.866667      0.140841           0.0        0.500000   \n",
       "9    0  0.342466       0.800000      0.051781           0.0        0.397959   \n",
       "\n",
       "   race_Amer-Indian-Eskimo  race_Asian-Pac-Islander  race_Black  race_Other  \\\n",
       "0                        0                        0           0           0   \n",
       "1                        0                        0           0           0   \n",
       "2                        0                        0           0           0   \n",
       "3                        0                        0           1           0   \n",
       "4                        0                        0           1           0   \n",
       "5                        0                        0           0           0   \n",
       "6                        0                        0           1           0   \n",
       "7                        0                        0           0           0   \n",
       "8                        0                        0           0           0   \n",
       "9                        0                        0           0           0   \n",
       "\n",
       "   race_White  \n",
       "0           1  \n",
       "1           1  \n",
       "2           1  \n",
       "3           0  \n",
       "4           0  \n",
       "5           1  \n",
       "6           0  \n",
       "7           1  \n",
       "8           1  \n",
       "9           1  "
      ]
     },
     "execution_count": 3,
     "metadata": {},
     "output_type": "execute_result"
    }
   ],
   "source": [
    "# one-hot encoding for categorical features (this takes care of Label encoding automatically)\n",
    "X = justicia.utils.get_one_hot_encoded_df(X,dataset.categorical_attributes, verbose=True)\n",
    "print(\"After->\")    \n",
    "X.head(n=10)"
   ]
  },
  {
   "cell_type": "markdown",
   "metadata": {},
   "source": [
    "### Train a classifier"
   ]
  },
  {
   "cell_type": "code",
   "execution_count": 4,
   "metadata": {},
   "outputs": [
    {
     "name": "stdout",
     "output_type": "stream",
     "text": [
      "\n",
      "Train Accuracy: 0.8203658203658204\n",
      "Test Accuracy: 0.8142462388701259\n"
     ]
    },
    {
     "name": "stderr",
     "output_type": "stream",
     "text": [
      "/Users/bishwamittraghosh/anaconda3/envs/test_justicia/lib/python3.7/site-packages/sklearn/linear_model/_logistic.py:765: ConvergenceWarning: lbfgs failed to converge (status=1):\n",
      "STOP: TOTAL NO. of ITERATIONS REACHED LIMIT.\n",
      "\n",
      "Increase the number of iterations (max_iter) or scale the data as shown in:\n",
      "    https://scikit-learn.org/stable/modules/preprocessing.html\n",
      "Please also refer to the documentation for alternative solver options:\n",
      "    https://scikit-learn.org/stable/modules/linear_model.html#logistic-regression\n",
      "  extra_warning_msg=_LOGISTIC_SOLVER_CONVERGENCE_MSG)\n"
     ]
    }
   ],
   "source": [
    "X_train, X_test, y_train, y_test = train_test_split(X, y, test_size=0.1, shuffle = True, random_state=2) # 70% training and 30% test\n",
    "\n",
    "# clf = LogisticRegression(class_weight='balanced', solver='liblinear', random_state=0)\n",
    "clf = LogisticRegression()\n",
    "# clf = tree.DecisionTreeClassifier(max_depth=5)\n",
    "# clf = SVC(kernel=\"linear\")\n",
    "\n",
    "\n",
    "\n",
    "clf.fit(X_train.values, y_train.values)\n",
    "print(\"\\nTrain Accuracy:\", sklearn.metrics.accuracy_score(clf.predict(X_train.values),y_train.values))\n",
    "print(\"Test Accuracy:\", sklearn.metrics.accuracy_score(clf.predict(X_test.values),y_test.values))        "
   ]
  },
  {
   "cell_type": "markdown",
   "metadata": {},
   "source": [
    "### Define function to randomly replace a column in data\n",
    "- For continuous-valued attributes, a random value is chosen within the minimum and maximum of attribute-values\n",
    "- For categorical-valued attributes, a random value is chosen from all possible categories"
   ]
  },
  {
   "cell_type": "code",
   "execution_count": 5,
   "metadata": {},
   "outputs": [],
   "source": [
    "def random_replace(df, column, is_categorical):\n",
    "    \"\"\"\n",
    "        Input is a dataframe and a column in the dataframe\n",
    "    \"\"\"\n",
    "    if(column in df.columns):\n",
    "        # Either Binary or continuous columns\n",
    "        uniques = df[column].unique()\n",
    "        if(is_categorical):\n",
    "            # considered as categorical, hence we select one of the categories randomly\n",
    "            random_values = np.random.choice(uniques, df.shape[0])\n",
    "            # In case, one or more categories are missing, we push them uniformly at random\n",
    "            uniques_random = np.unique(random_values)\n",
    "            assert len(uniques) == len(uniques_random), uniques\n",
    "        else:\n",
    "            # random values between min and max\n",
    "            random_values = np.random.uniform(low = df[column].min(), high = df[column].max(), size=(df.shape[0],))\n",
    "        \n",
    "        # replace column\n",
    "        df[column] = random_values\n",
    "        \n",
    "    else:\n",
    "        # find all matching columns within one-hot encode\n",
    "        matching_columns = []\n",
    "        for df_column in df.columns:\n",
    "            if df_column.startswith(column) and \"_\" in df_column:\n",
    "                matching_columns.append(df_column)\n",
    "        random_values = np.random.choice(range(len(matching_columns)), df.shape[0])\n",
    "        random_values = pd.get_dummies(random_values)\n",
    "        random_values.columns = matching_columns\n",
    "        for matching_column in matching_columns:\n",
    "            df[matching_column] = random_values[matching_column].values\n",
    "\n",
    "\n",
    "    return df"
   ]
  },
  {
   "cell_type": "code",
   "execution_count": 6,
   "metadata": {},
   "outputs": [
    {
     "name": "stderr",
     "output_type": "stream",
     "text": [
      "  0%|          | 0/7 [00:00<?, ?it/s]"
     ]
    },
    {
     "name": "stdout",
     "output_type": "stream",
     "text": [
      "Total iterations 5\n"
     ]
    },
    {
     "name": "stderr",
     "output_type": "stream",
     "text": [
      "100%|██████████| 7/7 [00:21<00:00,  3.10s/it]\n",
      "100%|██████████| 7/7 [00:21<00:00,  3.09s/it]\n",
      "100%|██████████| 7/7 [00:21<00:00,  3.10s/it]\n",
      "100%|██████████| 7/7 [00:21<00:00,  3.10s/it]\n",
      "100%|██████████| 7/7 [00:21<00:00,  3.10s/it]\n"
     ]
    }
   ],
   "source": [
    "result = pd.DataFrame()\n",
    "encoding = \"best\"\n",
    "\n",
    "# base result\n",
    "base_metric = Metric(model=clf, data=X_test, sensitive_attributes=dataset.known_sensitive_attributes, verbose=False, encoding=encoding)\n",
    "base_metric.compute()\n",
    "assert base_metric.disparate_impact_ratio is not None\n",
    "\n",
    "max_iterations = 5\n",
    "print(\"Total iterations\", max_iterations)\n",
    "for iteration in range(max_iterations):\n",
    "    for attribute in tqdm(attributes, leave=True):\n",
    "        # We do not compute influence w.r.t. sensitive attributes\n",
    "        attribute_is_sensitive_attribute = False\n",
    "        for var in dataset.known_sensitive_attributes:\n",
    "            if((attribute.startswith(var) and \"_\" in attribute) or attribute == var):\n",
    "                attribute_is_sensitive_attribute = True\n",
    "\n",
    "        if(attribute_is_sensitive_attribute):\n",
    "            continue\n",
    "        \n",
    "        # influence computation\n",
    "        working_df = X.copy()\n",
    "        working_df = random_replace(working_df, attribute, is_categorical = attribute in dataset.categorical_attributes)\n",
    "        metric = Metric(clf, working_df, sensitive_attributes=dataset.known_sensitive_attributes, verbose=False, encoding=encoding).compute()\n",
    "\n",
    "\n",
    "        # report results\n",
    "        entry = {}\n",
    "        entry['encoding'] = encoding\n",
    "        entry['attribute'] = attribute\n",
    "        entry['sensitive attributes'] = dataset.known_sensitive_attributes\n",
    "        entry['sensitive groups statistics'] = metric.sensitive_group_statistics\n",
    "        entry['base sensitive groups statistics'] = base_metric.sensitive_group_statistics\n",
    "        entry['DI'] = None\n",
    "        entry['SP'] = None\n",
    "        entry['base DI'] = base_metric.disparate_impact_ratio\n",
    "        entry['base SP'] = base_metric.statistical_parity_difference\n",
    "        try:\n",
    "            entry['DI'] = metric.disparate_impact_ratio - base_metric.disparate_impact_ratio\n",
    "            entry['SP'] = metric.statistical_parity_difference - base_metric.statistical_parity_difference\n",
    "        except:\n",
    "            pass\n",
    "        result = result.append(entry, ignore_index=True)\n",
    "\n",
    "        \n",
    "                                        "
   ]
  },
  {
   "cell_type": "markdown",
   "metadata": {},
   "source": [
    "## Visualize results\n",
    "- Change in disparate impact\n",
    "- Change in statistical parity\n",
    "- Change in positive predictive value of the classifier for all combinations of sensitive groups"
   ]
  },
  {
   "cell_type": "code",
   "execution_count": 9,
   "metadata": {},
   "outputs": [
    {
     "data": {
      "image/png": "[encoded data removed]",
      "text/plain": [
       "<Figure size 432x288 with 1 Axes>"
      ]
     },
     "metadata": {
      "needs_background": "light"
     },
     "output_type": "display_data"
    },
    {
     "data": {
      "text/plain": [
       "<Figure size 432x288 with 0 Axes>"
      ]
     },
     "metadata": {},
     "output_type": "display_data"
    },
    {
     "data": {
      "image/png": "[encoded data removed]",
      "text/plain": [
       "<Figure size 432x288 with 1 Axes>"
      ]
     },
     "metadata": {
      "needs_background": "light"
     },
     "output_type": "display_data"
    },
    {
     "data": {
      "text/plain": [
       "<Figure size 432x288 with 0 Axes>"
      ]
     },
     "metadata": {},
     "output_type": "display_data"
    },
    {
     "data": {
      "image/png": "[encoded data removed]",
      "text/plain": [
       "<Figure size 432x288 with 1 Axes>"
      ]
     },
     "metadata": {
      "needs_background": "light"
     },
     "output_type": "display_data"
    },
    {
     "data": {
      "text/plain": [
       "<Figure size 432x288 with 0 Axes>"
      ]
     },
     "metadata": {},
     "output_type": "display_data"
    },
    {
     "data": {
      "image/png": "[encoded data removed]",
      "text/plain": [
       "<Figure size 432x288 with 1 Axes>"
      ]
     },
     "metadata": {
      "needs_background": "light"
     },
     "output_type": "display_data"
    },
    {
     "data": {
      "text/plain": [
       "<Figure size 432x288 with 0 Axes>"
      ]
     },
     "metadata": {},
     "output_type": "display_data"
    }
   ],
   "source": [
    "item = result.copy()    \n",
    "dic = {\n",
    "    \"DI\" : r\"$\\Delta$\" + \" DI\",\n",
    "    \"SP\" : r\"$\\Delta$\" + \" SP\",\n",
    "}\n",
    "item['len sensitive groups statistics'] = item.apply(lambda x: len(x['sensitive groups statistics']), axis=1)\n",
    "\n",
    "assert len(item['len sensitive groups statistics'].unique()) == 1\n",
    "\n",
    "for idx, group_info in enumerate(item['base sensitive groups statistics'].iloc[0]):\n",
    "    item[\"base PPV \" + str(group_info[0])] = item.apply(lambda x: x['base sensitive groups statistics'][idx][1], axis=1)\n",
    "    item[\"PPV \" + str(group_info[0])] = item.apply(lambda x: x['sensitive groups statistics'][idx][1] - x[\"base PPV \" + str(group_info[0])], axis=1)\n",
    "    dic[\"PPV \" + str(group_info[0])] = r\"$\\Delta$\" + \" PPV for \" + str((\", \").join((\" \").join([attr, val[0], str(val[1])]) for attr, val in group_info[0]))\n",
    "\n",
    "\n",
    "fontsize = 22\n",
    "labelsize = 18\n",
    "for dic_key in dic:\n",
    "\n",
    "    assert len(item['base ' + dic_key].unique()) == 1, item['base ' + dic_key].unique()\n",
    "    base_val = item['base ' + dic_key].iloc[0]\n",
    "    max_val = max(max(abs(item[dic_key].max()), abs(item[dic_key].min())) , 0.1)\n",
    "    # custom color for each feature\n",
    "    custom_palette = {}\n",
    "    custom_palette_base = {}\n",
    "    for q in set(item['attribute']):\n",
    "        avr = (np.average(item[item['attribute'] == q][dic_key]))\n",
    "        if avr > 0:\n",
    "            custom_palette[q] = 'green'\n",
    "            custom_palette_base[q] = 'white'\n",
    "        else:\n",
    "            custom_palette[q] = 'red'\n",
    "            custom_palette_base[q] = 'white'\n",
    "    \n",
    "    # sort results\n",
    "    if(dic_key == \"DI\"):\n",
    "        item.sort_values(dic_key, ascending=False, inplace=True)\n",
    "    else:\n",
    "        item.sort_values(dic_key, ascending=True, inplace=True)\n",
    "    \n",
    "    # review values\n",
    "    item['temp base ' + dic_key] = item.apply(lambda x: x['base ' + dic_key] if x[dic_key] > 0 else x[dic_key] + x['base ' + dic_key], axis=1)\n",
    "    item[dic_key] = item.apply(lambda x: x[dic_key] + x['base ' + dic_key] if x[dic_key] > 0 else x['base ' + dic_key], axis=1)\n",
    "    item['base ' + dic_key] = item.apply(lambda x: x['temp base ' + dic_key], axis=1)\n",
    "\n",
    "    fig, ax = plt.subplots()\n",
    "    sns.barplot(y='attribute', x=dic_key, palette=custom_palette, data=item)\n",
    "    g = sns.barplot(y='attribute', x='base ' + dic_key, palette=custom_palette_base, data=item)\n",
    "    g.axvline(base_val, color='black')\n",
    "    plt.xlim(base_val - 1.5 * max_val, base_val + 1.5 * max_val)\n",
    "    plt.ylabel('Attribute')\n",
    "    plt.xlabel(dic[dic_key])\n",
    "    plt.legend(\"\", frameon=False)\n",
    "    plt.tight_layout()\n",
    "    \n",
    "    os.system(\"mkdir -p ../data/output/fig\")\n",
    "    plt.savefig(\"../data/output/fig/\" + str(dic_key) + \".pdf\")\n",
    "    plt.show()\n",
    "    plt.clf()\n",
    "    \n"
   ]
  },
  {
   "cell_type": "code",
   "execution_count": null,
   "metadata": {},
   "outputs": [],
   "source": []
  }
 ],
 "metadata": {
  "kernelspec": {
   "display_name": "Python 3",
   "language": "python",
   "name": "python3"
  },
  "language_info": {
   "codemirror_mode": {
    "name": "ipython",
    "version": 3
   },
   "file_extension": ".py",
   "mimetype": "text/x-python",
   "name": "python",
   "nbconvert_exporter": "python",
   "pygments_lexer": "ipython3",
   "version": "3.7.6"
  },
  "orig_nbformat": 2
 },
 "nbformat": 4,
 "nbformat_minor": 2
}
