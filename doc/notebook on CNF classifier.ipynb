{
 "metadata": {
  "language_info": {
   "codemirror_mode": {
    "name": "ipython",
    "version": 3
   },
   "file_extension": ".py",
   "mimetype": "text/x-python",
   "name": "python",
   "nbconvert_exporter": "python",
   "pygments_lexer": "ipython3",
   "version": "3.7.6-final"
  },
  "orig_nbformat": 2,
  "kernelspec": {
   "name": "python3",
   "display_name": "Python 3",
   "language": "python"
  }
 },
 "nbformat": 4,
 "nbformat_minor": 2,
 "cells": [
  {
   "source": [
    "# Justicia : formal fairness verifier\n",
    "This goal of this tutorial is to illustrate how to formally verify different fairness metrics of a prediction algorithm in presence of compound sensitive groups. In this tutorial, the inputs are \n",
    "- a prediction algorithm represented as a CNF (Conjunctive Normal Form) formula,\n",
    "- the probability distribution of input features (computed from finite sampled dataset).\n",
    "\n",
    "Fairness literature has developed multiple definitions of fairness, of which we verify (1) disparate impact and (2) statistical parity definitions. For an elaborate discussion, we refer to [[1]](https://arxiv.org/pdf/2009.06516.pdf).\n",
    "\n",
    "\n",
    "In the following, we show three different prediction algorithms (classifiers) and verify fairness on each of them."
   ],
   "cell_type": "markdown",
   "metadata": {}
  },
  {
   "source": [
    "## A. CNF classifier\n",
    "\n",
    "At first, we consider a CNF classifier that can learn a CNF formula in a dataset with binary class labels. In this tutorial, we use the CNF learner from [[2]](https://bishwamittra.github.io/publication/imli-ghosh.pdf). "
   ],
   "cell_type": "markdown",
   "metadata": {}
  },
  {
   "cell_type": "code",
   "execution_count": 1,
   "metadata": {},
   "outputs": [],
   "source": [
    "# standard library\n",
    "import sklearn.metrics\n",
    "from sklearn.model_selection import train_test_split\n",
    "from pyrulelearn.imli import imli\n",
    "import sys\n",
    "# sys.path.append(\"..\")\n",
    "\n",
    "# From this framework\n",
    "from data.objects.adult import Adult\n",
    "from data.objects.titanic import Titanic\n",
    "import justicia.utils\n",
    "from justicia.metrics import Metric"
   ]
  },
  {
   "source": [
    "### Prepare a dataset"
   ],
   "cell_type": "markdown",
   "metadata": {}
  },
  {
   "cell_type": "code",
   "execution_count": 2,
   "metadata": {},
   "outputs": [
    {
     "output_type": "stream",
     "name": "stdout",
     "text": [
      "Sensitive attributes: ['race', 'age']\n",
      "-number of samples: (before dropping nan rows) 32561\n",
      "-number of samples: (after dropping nan rows) 32561\n"
     ]
    },
    {
     "output_type": "execute_result",
     "data": {
      "text/plain": [
       "       sex  age_0  age_1  age_2  age_3  race_Amer-Indian-Eskimo  \\\n",
       "0        0      0      1      0      0                        0   \n",
       "1        0      0      1      0      0                        0   \n",
       "2        0      0      1      0      0                        0   \n",
       "3        0      0      1      0      0                        0   \n",
       "4        1      1      0      0      0                        0   \n",
       "...    ...    ...    ...    ...    ...                      ...   \n",
       "32556    1      1      0      0      0                        0   \n",
       "32557    0      0      1      0      0                        0   \n",
       "32558    1      0      0      1      0                        0   \n",
       "32559    0      1      0      0      0                        0   \n",
       "32560    1      0      1      0      0                        0   \n",
       "\n",
       "       race_Asian-Pac-Islander  race_Black  race_Other  race_White  ...  \\\n",
       "0                            0           0           0           1  ...   \n",
       "1                            0           0           0           1  ...   \n",
       "2                            0           0           0           1  ...   \n",
       "3                            0           1           0           0  ...   \n",
       "4                            0           1           0           0  ...   \n",
       "...                        ...         ...         ...         ...  ...   \n",
       "32556                        0           0           0           1  ...   \n",
       "32557                        0           0           0           1  ...   \n",
       "32558                        0           0           0           1  ...   \n",
       "32559                        0           0           0           1  ...   \n",
       "32560                        0           0           0           1  ...   \n",
       "\n",
       "       capital-gain_1  capital-gain_3  capital-loss_0  capital-loss_1  \\\n",
       "0                   0               0               1               0   \n",
       "1                   0               0               1               0   \n",
       "2                   0               0               1               0   \n",
       "3                   0               0               1               0   \n",
       "4                   0               0               1               0   \n",
       "...               ...             ...             ...             ...   \n",
       "32556               0               0               1               0   \n",
       "32557               0               0               1               0   \n",
       "32558               0               0               1               0   \n",
       "32559               0               0               1               0   \n",
       "32560               0               0               1               0   \n",
       "\n",
       "       capital-loss_2  capital-loss_3  hours-per-week_0  hours-per-week_1  \\\n",
       "0                   0               0                 0                 1   \n",
       "1                   0               0                 1                 0   \n",
       "2                   0               0                 0                 1   \n",
       "3                   0               0                 0                 1   \n",
       "4                   0               0                 0                 1   \n",
       "...               ...             ...               ...               ...   \n",
       "32556               0               0                 0                 1   \n",
       "32557               0               0                 0                 1   \n",
       "32558               0               0                 0                 1   \n",
       "32559               0               0                 1                 0   \n",
       "32560               0               0                 0                 1   \n",
       "\n",
       "       hours-per-week_2  hours-per-week_3  \n",
       "0                     0                 0  \n",
       "1                     0                 0  \n",
       "2                     0                 0  \n",
       "3                     0                 0  \n",
       "4                     0                 0  \n",
       "...                 ...               ...  \n",
       "32556                 0                 0  \n",
       "32557                 0                 0  \n",
       "32558                 0                 0  \n",
       "32559                 0                 0  \n",
       "32560                 0                 0  \n",
       "\n",
       "[32561 rows x 25 columns]"
      ],
      "text/html": "<div>\n<style scoped>\n    .dataframe tbody tr th:only-of-type {\n        vertical-align: middle;\n    }\n\n    .dataframe tbody tr th {\n        vertical-align: top;\n    }\n\n    .dataframe thead th {\n        text-align: right;\n    }\n</style>\n<table border=\"1\" class=\"dataframe\">\n  <thead>\n    <tr style=\"text-align: right;\">\n      <th></th>\n      <th>sex</th>\n      <th>age_0</th>\n      <th>age_1</th>\n      <th>age_2</th>\n      <th>age_3</th>\n      <th>race_Amer-Indian-Eskimo</th>\n      <th>race_Asian-Pac-Islander</th>\n      <th>race_Black</th>\n      <th>race_Other</th>\n      <th>race_White</th>\n      <th>...</th>\n      <th>capital-gain_1</th>\n      <th>capital-gain_3</th>\n      <th>capital-loss_0</th>\n      <th>capital-loss_1</th>\n      <th>capital-loss_2</th>\n      <th>capital-loss_3</th>\n      <th>hours-per-week_0</th>\n      <th>hours-per-week_1</th>\n      <th>hours-per-week_2</th>\n      <th>hours-per-week_3</th>\n    </tr>\n  </thead>\n  <tbody>\n    <tr>\n      <th>0</th>\n      <td>0</td>\n      <td>0</td>\n      <td>1</td>\n      <td>0</td>\n      <td>0</td>\n      <td>0</td>\n      <td>0</td>\n      <td>0</td>\n      <td>0</td>\n      <td>1</td>\n      <td>...</td>\n      <td>0</td>\n      <td>0</td>\n      <td>1</td>\n      <td>0</td>\n      <td>0</td>\n      <td>0</td>\n      <td>0</td>\n      <td>1</td>\n      <td>0</td>\n      <td>0</td>\n    </tr>\n    <tr>\n      <th>1</th>\n      <td>0</td>\n      <td>0</td>\n      <td>1</td>\n      <td>0</td>\n      <td>0</td>\n      <td>0</td>\n      <td>0</td>\n      <td>0</td>\n      <td>0</td>\n      <td>1</td>\n      <td>...</td>\n      <td>0</td>\n      <td>0</td>\n      <td>1</td>\n      <td>0</td>\n      <td>0</td>\n      <td>0</td>\n      <td>1</td>\n      <td>0</td>\n      <td>0</td>\n      <td>0</td>\n    </tr>\n    <tr>\n      <th>2</th>\n      <td>0</td>\n      <td>0</td>\n      <td>1</td>\n      <td>0</td>\n      <td>0</td>\n      <td>0</td>\n      <td>0</td>\n      <td>0</td>\n      <td>0</td>\n      <td>1</td>\n      <td>...</td>\n      <td>0</td>\n      <td>0</td>\n      <td>1</td>\n      <td>0</td>\n      <td>0</td>\n      <td>0</td>\n      <td>0</td>\n      <td>1</td>\n      <td>0</td>\n      <td>0</td>\n    </tr>\n    <tr>\n      <th>3</th>\n      <td>0</td>\n      <td>0</td>\n      <td>1</td>\n      <td>0</td>\n      <td>0</td>\n      <td>0</td>\n      <td>0</td>\n      <td>1</td>\n      <td>0</td>\n      <td>0</td>\n      <td>...</td>\n      <td>0</td>\n      <td>0</td>\n      <td>1</td>\n      <td>0</td>\n      <td>0</td>\n      <td>0</td>\n      <td>0</td>\n      <td>1</td>\n      <td>0</td>\n      <td>0</td>\n    </tr>\n    <tr>\n      <th>4</th>\n      <td>1</td>\n      <td>1</td>\n      <td>0</td>\n      <td>0</td>\n      <td>0</td>\n      <td>0</td>\n      <td>0</td>\n      <td>1</td>\n      <td>0</td>\n      <td>0</td>\n      <td>...</td>\n      <td>0</td>\n      <td>0</td>\n      <td>1</td>\n      <td>0</td>\n      <td>0</td>\n      <td>0</td>\n      <td>0</td>\n      <td>1</td>\n      <td>0</td>\n      <td>0</td>\n    </tr>\n    <tr>\n      <th>...</th>\n      <td>...</td>\n      <td>...</td>\n      <td>...</td>\n      <td>...</td>\n      <td>...</td>\n      <td>...</td>\n      <td>...</td>\n      <td>...</td>\n      <td>...</td>\n      <td>...</td>\n      <td>...</td>\n      <td>...</td>\n      <td>...</td>\n      <td>...</td>\n      <td>...</td>\n      <td>...</td>\n      <td>...</td>\n      <td>...</td>\n      <td>...</td>\n      <td>...</td>\n      <td>...</td>\n    </tr>\n    <tr>\n      <th>32556</th>\n      <td>1</td>\n      <td>1</td>\n      <td>0</td>\n      <td>0</td>\n      <td>0</td>\n      <td>0</td>\n      <td>0</td>\n      <td>0</td>\n      <td>0</td>\n      <td>1</td>\n      <td>...</td>\n      <td>0</td>\n      <td>0</td>\n      <td>1</td>\n      <td>0</td>\n      <td>0</td>\n      <td>0</td>\n      <td>0</td>\n      <td>1</td>\n      <td>0</td>\n      <td>0</td>\n    </tr>\n    <tr>\n      <th>32557</th>\n      <td>0</td>\n      <td>0</td>\n      <td>1</td>\n      <td>0</td>\n      <td>0</td>\n      <td>0</td>\n      <td>0</td>\n      <td>0</td>\n      <td>0</td>\n      <td>1</td>\n      <td>...</td>\n      <td>0</td>\n      <td>0</td>\n      <td>1</td>\n      <td>0</td>\n      <td>0</td>\n      <td>0</td>\n      <td>0</td>\n      <td>1</td>\n      <td>0</td>\n      <td>0</td>\n    </tr>\n    <tr>\n      <th>32558</th>\n      <td>1</td>\n      <td>0</td>\n      <td>0</td>\n      <td>1</td>\n      <td>0</td>\n      <td>0</td>\n      <td>0</td>\n      <td>0</td>\n      <td>0</td>\n      <td>1</td>\n      <td>...</td>\n      <td>0</td>\n      <td>0</td>\n      <td>1</td>\n      <td>0</td>\n      <td>0</td>\n      <td>0</td>\n      <td>0</td>\n      <td>1</td>\n      <td>0</td>\n      <td>0</td>\n    </tr>\n    <tr>\n      <th>32559</th>\n      <td>0</td>\n      <td>1</td>\n      <td>0</td>\n      <td>0</td>\n      <td>0</td>\n      <td>0</td>\n      <td>0</td>\n      <td>0</td>\n      <td>0</td>\n      <td>1</td>\n      <td>...</td>\n      <td>0</td>\n      <td>0</td>\n      <td>1</td>\n      <td>0</td>\n      <td>0</td>\n      <td>0</td>\n      <td>1</td>\n      <td>0</td>\n      <td>0</td>\n      <td>0</td>\n    </tr>\n    <tr>\n      <th>32560</th>\n      <td>1</td>\n      <td>0</td>\n      <td>1</td>\n      <td>0</td>\n      <td>0</td>\n      <td>0</td>\n      <td>0</td>\n      <td>0</td>\n      <td>0</td>\n      <td>1</td>\n      <td>...</td>\n      <td>0</td>\n      <td>0</td>\n      <td>1</td>\n      <td>0</td>\n      <td>0</td>\n      <td>0</td>\n      <td>0</td>\n      <td>1</td>\n      <td>0</td>\n      <td>0</td>\n    </tr>\n  </tbody>\n</table>\n<p>32561 rows × 25 columns</p>\n</div>"
     },
     "metadata": {},
     "execution_count": 2
    }
   ],
   "source": [
    "verbose = True\n",
    "dataset = Adult(verbose=verbose, config=5)\n",
    "df = dataset.get_df()\n",
    "# discretize\n",
    "df =  justicia.utils.get_discretized_df(df, columns_to_discretize=dataset.continuous_attributes, verbose=False)\n",
    "# get X,y\n",
    "X = df.drop(['target'], axis=1)\n",
    "y = df['target']\n",
    "# one-hot\n",
    "X = justicia.utils.get_one_hot_encoded_df(X,X.columns.to_list(), verbose=False)\n",
    "X"
   ]
  },
  {
   "source": [
    "### Train a model"
   ],
   "cell_type": "markdown",
   "metadata": {}
  },
  {
   "cell_type": "code",
   "execution_count": 3,
   "metadata": {},
   "outputs": [],
   "source": [
    "X_train, X_test, y_train, y_test = train_test_split(X, y, test_size=0.1, shuffle = True, random_state=2) # 70% training and 30% test\n",
    "\n",
    "clf = imli(num_clause=2, data_fidelity=10, work_dir=\"data/\", rule_type=\"CNF\", verbose=False)\n",
    "clf.fit(X_train.values, y_train.values)\n",
    "        "
   ]
  },
  {
   "cell_type": "code",
   "execution_count": 4,
   "metadata": {},
   "outputs": [
    {
     "output_type": "stream",
     "name": "stdout",
     "text": [
      "learned rule:\n",
      "( age_2 OR race_Asian-Pac-Islander OR capital-gain_1 OR capital-gain_3 OR capital-loss_1 OR hours-per-week_2 ) AND \n",
      "( race_Amer-Indian-Eskimo OR education-num_3 OR capital-gain_3 OR hours-per-week_3)\n",
      "\n",
      "Train Accuracy: 0.7824187824187824\n",
      "Test Accuracy: 0.775867362603623\n"
     ]
    }
   ],
   "source": [
    "print(\"learned rule:\")\n",
    "print(clf.get_rule(X_train.columns.to_list()))\n",
    "print(\"\\nTrain Accuracy:\", sklearn.metrics.accuracy_score(clf.predict(X_train.values),y_train.values))\n",
    "print(\"Test Accuracy:\", sklearn.metrics.accuracy_score(clf.predict(X_test.values),y_test.values))"
   ]
  },
  {
   "source": [
    "### Formally measure different fairness metrics\n",
    "\n",
    "Justicia reduces the verification problem to solving appropriately designed SSAT (Stochastic Satisfiability) instances. Two different encodings have been proposed in \\[1\\]\n",
    "\n",
    "- enumeration (Enum) based encoding and\n",
    "- learning (Learn) based encoding.\n",
    "\n",
    "In the Enum encoding, we formally measure fairness metrics such as disparate impact and statistical parity on each combination of compound sensitive groups. Consider sensitive attributes = (Race, Sex) where Race $\\in$ {Black, White} and Sex $\\in$ {Male, Female}. In Enum encoding, we compute metrics for all four combinations: Black-Male, Black-Female, White-Black, and White-Female. \n",
    "\n",
    "In the Learn encoding, the (SSAT) solver finds the most favored (least discriminated) and least favored (most discriminated) group efficeintly without us enumerating explicitly.\n",
    "\n",
    "\n",
    "First we show Enum encoding.\n",
    "\n",
    "\n"
   ],
   "cell_type": "markdown",
   "metadata": {}
  },
  {
   "cell_type": "code",
   "execution_count": 5,
   "metadata": {},
   "outputs": [
    {
     "output_type": "stream",
     "name": "stdout",
     "text": [
      "Disparate Impact: 0.06685275\nStatistical Parity: 0.93314725\n"
     ]
    }
   ],
   "source": [
    "metric_enum = Metric(model=clf, model_name=\"CNF\", data=X_test, sensitive_attributes=dataset.known_sensitive_attributes, verbose=False, encoding=\"Enum\")\n",
    "print(\"Disparate Impact:\", metric_enum.disparate_impact_ratio)\n",
    "print(\"Statistical Parity:\", metric_enum.statistical_parity_difference)"
   ]
  },
  {
   "source": [
    "Now we show Learn encoding."
   ],
   "cell_type": "markdown",
   "metadata": {}
  },
  {
   "cell_type": "code",
   "execution_count": 6,
   "metadata": {},
   "outputs": [
    {
     "output_type": "stream",
     "name": "stdout",
     "text": [
      "Disparate Impact: 0.06685269999999999\nStatistical Parity: 0.9331473\nMost favored group: race_Amer-Indian-Eskimo And age_2\nLeast favored group: race_Other And age_3\n"
     ]
    }
   ],
   "source": [
    "metric_learn = Metric(model=clf, model_name=\"CNF\", data=X_test, sensitive_attributes=dataset.known_sensitive_attributes, verbose=False, encoding=\"Learn\")\n",
    "print(\"Disparate Impact:\", metric_learn.disparate_impact_ratio)\n",
    "print(\"Statistical Parity:\", metric_learn.statistical_parity_difference)\n",
    "print(\"Most favored group:\", (\" And \").join(metric_learn.most_favored_group))\n",
    "print(\"Least favored group:\", (\" And \").join(metric_learn.least_favored_group))"
   ]
  },
  {
   "source": [
    "We see that both encodings have same output, the difference is in the efficiency of computing these metrics. Experimentally, the Learn encoding is superior than the Enum encoding."
   ],
   "cell_type": "markdown",
   "metadata": {}
  },
  {
   "source": [
    "### Considering the correlation between sensitive and non-sensitive attributes\n",
    "\n",
    "In the previous two encodings (Learn and Enum), we consider independence of all attributes, which is unlikely in practical ML problems. Therefore, we propose Enum-correlation encoding that considers the conditional dependency of non-sensitive attributes on each compound group.  \n"
   ],
   "cell_type": "markdown",
   "metadata": {}
  },
  {
   "cell_type": "code",
   "execution_count": 7,
   "metadata": {},
   "outputs": [
    {
     "output_type": "stream",
     "name": "stdout",
     "text": [
      "Without correlation->\n",
      "Disparate Impact: 1\n",
      "Statistical Parity: 0.0\n",
      "Most favored group: sex\n",
      "Least favored group: sex\n",
      "\n",
      "\n",
      "\n",
      "With correlation->\n",
      "Disparate Impact: 0.4966886315559484\n",
      "Statistical Parity: 0.06081471\n",
      "Most favored group: not sex\n",
      "Least favored group: sex\n",
      "\n",
      "\n",
      "\n",
      "Recalling the classification rule in CNF\n",
      "( age_2 OR race_Asian-Pac-Islander OR capital-gain_1 OR capital-gain_3 OR capital-loss_1 OR hours-per-week_2 ) AND \n",
      "( race_Amer-Indian-Eskimo OR education-num_3 OR capital-gain_3 OR hours-per-week_3)\n",
      "\n",
      "Sensitive attribute in classifier? False\n"
     ]
    }
   ],
   "source": [
    "metric_enum = Metric(model=clf, model_name=\"CNF\", data=X_test, sensitive_attributes=['sex'], verbose=False, encoding=\"Enum\")\n",
    "print(\"Without correlation->\")\n",
    "print(\"Disparate Impact:\", metric_enum.disparate_impact_ratio)\n",
    "print(\"Statistical Parity:\", metric_enum.statistical_parity_difference)\n",
    "print(\"Most favored group:\", (\" And \").join(metric_enum.most_favored_group))\n",
    "print(\"Least favored group:\", (\" And \").join(metric_enum.least_favored_group))\n",
    "\n",
    "print(\"\\n\\n\")\n",
    "print(\"With correlation->\")\n",
    "metric_enum_cor = Metric(model=clf, model_name=\"CNF\", data=X_test, sensitive_attributes=['sex'], verbose=False, encoding=\"Enum-correlation\")\n",
    "print(\"Disparate Impact:\", metric_enum_cor.disparate_impact_ratio)\n",
    "print(\"Statistical Parity:\", metric_enum_cor.statistical_parity_difference)\n",
    "print(\"Most favored group:\", (\" And \").join(metric_enum_cor.most_favored_group))\n",
    "print(\"Least favored group:\", (\" And \").join(metric_enum_cor.least_favored_group))\n",
    "\n",
    "\n",
    "print(\"\\n\\n\")\n",
    "print(\"Recalling the classification rule in CNF\")\n",
    "rule = clf.get_rule(X_train.columns.to_list())\n",
    "print(rule)\n",
    "print(\"\\nSensitive attribute in classifier?\", \"sex\" in rule)"
   ]
  },
  {
   "source": [
    "In this example, we see that without considering correlation among attributes, no discremination is detected. For example, the most favored group and the least favored group are identical (i.e., disparate impact = 1 and statistical parity = 0). However, when we consider correlation, there is a clear discremination. "
   ],
   "cell_type": "markdown",
   "metadata": {}
  },
  {
   "source": [
    "### References:\n",
    "\n",
    "\\[1\\] Ghosh B, Basu D, Meel KS. Justicia: A Stochastic SAT Approach to Formally Verify Fairness.\n",
    "\n",
    "\\[2\\] Ghosh B, Meel KS. IMLI: An incremental framework for MaxSAT-based learning of interpretable classification rules."
   ],
   "cell_type": "markdown",
   "metadata": {}
  },
  {
   "cell_type": "code",
   "execution_count": null,
   "metadata": {},
   "outputs": [],
   "source": []
  }
 ]
}